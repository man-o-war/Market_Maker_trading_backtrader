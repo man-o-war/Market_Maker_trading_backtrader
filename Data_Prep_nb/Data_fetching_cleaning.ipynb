{
 "cells": [
  {
   "cell_type": "markdown",
   "id": "9a58b236",
   "metadata": {},
   "source": [
    "# Data Fetching and Cleaning"
   ]
  },
  {
   "cell_type": "markdown",
   "id": "5eb2e17e",
   "metadata": {},
   "source": [
    "### importing the required libraries"
   ]
  },
  {
   "cell_type": "code",
   "execution_count": 1,
   "id": "00190566",
   "metadata": {},
   "outputs": [],
   "source": [
    "import requests\n",
    "from zipfile import ZipFile\n",
    "import pandas as pd"
   ]
  },
  {
   "cell_type": "markdown",
   "id": "f92772fd",
   "metadata": {},
   "source": [
    "### Putting up with the URLs"
   ]
  },
  {
   "cell_type": "code",
   "execution_count": 2,
   "id": "424d1b5e",
   "metadata": {},
   "outputs": [],
   "source": [
    "url1 = 'https://data.binance.vision/data/spot/daily/trades/BTCUSDT/BTCUSDT-trades-2022-03-01.zip'\n",
    "url2 = 'https://data.binance.vision/data/spot/daily/trades/BTCUSDT/BTCUSDT-trades-2022-03-02.zip'\n",
    "url3 = 'https://data.binance.vision/data/spot/daily/trades/BTCUSDT/BTCUSDT-trades-2022-03-03.zip'\n",
    "tbd = [url1,url2,url3]"
   ]
  },
  {
   "cell_type": "markdown",
   "id": "759209cc",
   "metadata": {},
   "source": [
    "### Downloading the zip files"
   ]
  },
  {
   "cell_type": "code",
   "execution_count": 3,
   "id": "8c01a9f7",
   "metadata": {},
   "outputs": [
    {
     "name": "stdout",
     "output_type": "stream",
     "text": [
      "Downloading started\n",
      "Downloading Completed\n"
     ]
    }
   ],
   "source": [
    "print('Downloading started')\n",
    "\n",
    "filenames = []\n",
    "for url in tbd:\n",
    "    # Downloading the file by sending the request to the URL\n",
    "    req = requests.get(url)\n",
    " \n",
    "    # Split URL to get the file name\n",
    "    filename = url.split('/')[-1]\n",
    "    \n",
    "    filenames.append(filename)\n",
    " \n",
    "    # Writing the file to the local file system\n",
    "    with open(filename,'wb') as output_file:\n",
    "        output_file.write(req.content)\n",
    "        \n",
    "print('Downloading Completed')"
   ]
  },
  {
   "cell_type": "markdown",
   "id": "abaff32d",
   "metadata": {},
   "source": [
    "### Extracting ZIPs"
   ]
  },
  {
   "cell_type": "code",
   "execution_count": 4,
   "id": "9c702501",
   "metadata": {},
   "outputs": [],
   "source": [
    "for filename in filenames:\n",
    "    with ZipFile(filename, 'r') as zipObj:\n",
    "       # Extract all the contents of zip file in current directory\n",
    "       zipObj.extractall()"
   ]
  },
  {
   "cell_type": "markdown",
   "id": "c2dc02e8",
   "metadata": {},
   "source": [
    "## Pandas work"
   ]
  },
  {
   "cell_type": "markdown",
   "id": "285dd37c",
   "metadata": {},
   "source": [
    "Importing the data from the csvs' and removing the unecessary columns"
   ]
  },
  {
   "cell_type": "code",
   "execution_count": 13,
   "id": "c0273fbe",
   "metadata": {},
   "outputs": [],
   "source": [
    "frames = []\n",
    "col_names = ['tbr','Traded Price', 'Traded Size', 'Traded Notional', 'Timestamp', 'tbr2','tbr3']\n",
    "for filename in filenames:\n",
    "    data = pd.read_csv('./'+filename, names = col_names)\n",
    "    data = data.drop(['tbr','tbr2','tbr3'],axis = 1)\n",
    "    frames.append(dataa)"
   ]
  },
  {
   "cell_type": "markdown",
   "id": "c07d91fa",
   "metadata": {},
   "source": [
    "### Getting the data together in a single dataframe"
   ]
  },
  {
   "cell_type": "code",
   "execution_count": 12,
   "id": "7d2cac8a",
   "metadata": {},
   "outputs": [],
   "source": [
    "The_DATA = pd.concat(frames , sort = False)"
   ]
  },
  {
   "cell_type": "markdown",
   "id": "190ea7a5",
   "metadata": {},
   "source": [
    "Below step is not required to be executed, it was for offline ease only"
   ]
  },
  {
   "cell_type": "code",
   "execution_count": 15,
   "id": "ce467fcd",
   "metadata": {},
   "outputs": [
    {
     "name": "stdout",
     "output_type": "stream",
     "text": [
      "DONE!!\n"
     ]
    }
   ],
   "source": [
    "#The_DATA.to_csv(\"./CryptoData.csv\")\n",
    "print(\"DONE!!\")"
   ]
  },
  {
   "cell_type": "markdown",
   "id": "9c7bb374",
   "metadata": {},
   "source": [
    "Now for further process refer the subsequent notebook"
   ]
  }
 ],
 "metadata": {
  "kernelspec": {
   "display_name": "Python 3 (ipykernel)",
   "language": "python",
   "name": "python3"
  },
  "language_info": {
   "codemirror_mode": {
    "name": "ipython",
    "version": 3
   },
   "file_extension": ".py",
   "mimetype": "text/x-python",
   "name": "python",
   "nbconvert_exporter": "python",
   "pygments_lexer": "ipython3",
   "version": "3.8.5"
  }
 },
 "nbformat": 4,
 "nbformat_minor": 5
}
